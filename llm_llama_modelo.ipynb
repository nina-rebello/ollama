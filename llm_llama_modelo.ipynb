{
 "cells": [
  {
   "cell_type": "markdown",
   "metadata": {},
   "source": []
  },
  {
   "cell_type": "code",
   "execution_count": 28,
   "metadata": {},
   "outputs": [],
   "source": [
    "#pip install langchain_community\n",
    "#pip uninstall pandas\n"
   ]
  },
  {
   "cell_type": "markdown",
   "metadata": {},
   "source": [
    "## Importação de bibliotecas e inicialização de variáveis"
   ]
  },
  {
   "cell_type": "code",
   "execution_count": 46,
   "metadata": {},
   "outputs": [],
   "source": [
    "from langchain_community.llms import Ollama\n",
    "import pandas as pd\n",
    "import matplotlib.pyplot as plt\n",
    "import numpy as np\n",
    "import json\n",
    "import streamlit as st"
   ]
  },
  {
   "cell_type": "code",
   "execution_count": 30,
   "metadata": {},
   "outputs": [],
   "source": [
    "llm = Ollama(model=\"llama3\")"
   ]
  },
  {
   "cell_type": "markdown",
   "metadata": {},
   "source": [
    "## Ingestão de dados"
   ]
  },
  {
   "cell_type": "code",
   "execution_count": 31,
   "metadata": {},
   "outputs": [],
   "source": [
    "#Função para ler o arquivo JSON REFERENCIA\n",
    "file_path = \"cadastro.json\"\n",
    "def read_json(file_path):\n",
    "    with open(file_path, 'r') as f:\n",
    "        data = json.load(f)\n",
    "    return data"
   ]
  },
  {
   "cell_type": "code",
   "execution_count": 41,
   "metadata": {},
   "outputs": [],
   "source": [
    "# Função para ler o arquivo JSON REAL\n",
    "def read_json(file_path):\n",
    "    with open(file_path, 'r') as f:\n",
    "        data_real = json.load(f)\n",
    "    return data_real\n",
    "\n",
    "# Carregar o JSON de referência a partir do arquivo externo\n",
    "reference_json = read_json('cadastro_interacao.json')"
   ]
  },
  {
   "cell_type": "markdown",
   "metadata": {},
   "source": [
    "## Comparação dos dados"
   ]
  },
  {
   "cell_type": "code",
   "execution_count": 42,
   "metadata": {},
   "outputs": [],
   "source": [
    " #Função para comparar o JSON de interações atual com o JSON de referência\n",
    "def compare_json(current_json, reference_json):\n",
    "    insights = []\n",
    "    \n",
    "    # Convertendo para DataFrames para facilitar a comparação\n",
    "    df_current = pd.DataFrame(current_json['flow'])\n",
    "    df_reference = pd.DataFrame(reference_json['flow'])\n",
    "    \n",
    "    # Verificar diferenças no número de etapas\n",
    "    if len(df_current) != len(df_reference):\n",
    "        insights.append(f\"Different number of steps: Current flow has {len(df_current)} steps, while reference has {len(df_reference)}.\")\n",
    "    \n",
    "    \n",
    "    \n",
    "    # Comparar cada etapa (por exemplo, tempo gasto, cliques)\n",
    "    for i, row in df_current.iterrows():\n",
    "        if i < len(df_reference):\n",
    "            ref_row = df_reference.iloc[i]\n",
    "            \n",
    "            # Comparar a duração de cada etapa\n",
    "            if row['duration_seconds'] > ref_row['duration_seconds']:\n",
    "                insights.append(f\"Step {i+1}: User spent {row['duration_seconds']}s on '{row['step']}', which is longer than the reference time of {ref_row['duration_seconds']}s.\")\n",
    "            elif row['duration_seconds'] < ref_row['duration_seconds']:\n",
    "                insights.append(f\"Step {i+1}: User spent {row['duration_seconds']}s on '{row['step']}', which is shorter than the reference time of {ref_row['duration_seconds']}s.\")\n",
    "            \n",
    "            # Comparar a quantidade de cliques\n",
    "            if row['clicks'] != ref_row['clicks']:\n",
    "                insights.append(f\"Step {i+1}: User clicked {row['clicks']} times, expected {ref_row['clicks']} clicks.\")\n",
    "            \n",
    "            # Comparar os campos preenchidos\n",
    "            if 'input_fields' in row and 'input_fields' in ref_row:\n",
    "                if row['input_fields'] != ref_row['input_fields']:\n",
    "                    insights.append(f\"Step {i+1}: Input fields mismatch. Current inputs are {row['input_fields']}, expected {ref_row['input_fields']}.\")\n",
    "        else:\n",
    "            insights.append(f\"Step {i+1}: No corresponding step in the reference flow.\")\n",
    "\n",
    "            if row['session_order'] != ref_row['session_order']:\n",
    "                insights.append(f\"Step {i+1}: User followed a different flow order.\")\n",
    "    \n",
    "    return insights"
   ]
  },
  {
   "cell_type": "code",
   "execution_count": 43,
   "metadata": {},
   "outputs": [],
   "source": [
    "#Ler o JSON de interações atual\n",
    "current_json = read_json('cadastro.json') "
   ]
  },
  {
   "cell_type": "markdown",
   "metadata": {},
   "source": [
    "## Geração de insights"
   ]
  },
  {
   "cell_type": "code",
   "execution_count": 44,
   "metadata": {},
   "outputs": [],
   "source": [
    "#Comparar e gerar insights\n",
    "insights = compare_json(current_json, reference_json)\n"
   ]
  },
  {
   "cell_type": "code",
   "execution_count": 36,
   "metadata": {},
   "outputs": [
    {
     "name": "stdout",
     "output_type": "stream",
     "text": [
      "Based on the insights generated from comparing the JSONs, here are some observations and potential issues:\n",
      "\n",
      "**Step 2:**\n",
      "\n",
      "* The user spent less time (100s) than expected (120s) filling out personal data.\n",
      "* There was a mismatch in input fields. The current inputs did not match the expected values:\n",
      "\t+ Expected: {'nome': 'João da Silva', 'email': 'joao.silva@empresa.com', 'telefone': '123456789'}\n",
      "\t+ Actual: {'nome': 'Ana Costa', 'email': 'ana.costa@empresa.com', 'telefone': '123987456'}\n",
      "\n",
      "**Step 3:**\n",
      "\n",
      "* The user spent less time (80s) than expected (300s) confirming registration data.\n",
      "\n",
      "**Step 4:**\n",
      "\n",
      "* The user spent more time (500s) than expected (15s) completing the registration.\n",
      "* The user clicked 6 times, which is significantly higher than the expected number of clicks (1).\n",
      "\n",
      "These insights suggest that there may be issues with the user's experience and behavior during the registration process. Specifically:\n",
      "\n",
      "* The mismatch in input fields in Step 2 could indicate a problem with data validation or incorrect information being entered.\n",
      "* The shorter time spent on Steps 2 and 3 could suggest that users are becoming more efficient in completing these steps, but this may also be due to errors or incomplete information being submitted.\n",
      "* The longer time spent on Step 4 and the excessive clicking could indicate frustration or confusion with the registration process.\n"
     ]
    }
   ],
   "source": [
    "# # Função para chamar o Llama3 com insights e perguntas adicionais\n",
    "# def ask_llama_for_insights(insights):\n",
    "#     # Montar a mensagem a ser enviada para o Llama3\n",
    "#     insight_message = \"Aqui estão os insights gerados a partir da comparação dos JSONs:\\n\\n\"\n",
    "#     insight_message += \"\\n\".join(insights)\n",
    "    \n",
    "#     # Chamar o Llama3 com a mensagem de insights\n",
    "#     response = llm.invoke(insight_message)\n",
    "    \n",
    "#     # Exibir a resposta gerada pela IA\n",
    "#     return response\n",
    "# # \n",
    "# # Obter insights da IA Llama3\n",
    "# response = ask_llama_for_insights(insights)\n",
    "# print(response)"
   ]
  },
  {
   "cell_type": "code",
   "execution_count": 45,
   "metadata": {},
   "outputs": [
    {
     "name": "stdout",
     "output_type": "stream",
     "text": [
      "Step 2: User spent 100s on 'Preencher dados pessoais', which is shorter than the reference time of 120s.\n",
      "Step 2: Input fields mismatch. Current inputs are [{'field': 'nome', 'value': 'Ana Costa'}, {'field': 'email', 'value': 'ana.costa@empresa.com'}, {'field': 'telefone', 'value': '123987456'}], expected [{'field': 'nome', 'value': 'João da Silva'}, {'field': 'email', 'value': 'joao.silva@empresa.com'}, {'field': 'telefone', 'value': '123456789'}].\n",
      "Step 3: User spent 80s on 'Confirmar dados de cadastramento', which is shorter than the reference time of 300s.\n",
      "Step 4: User spent 500s on 'Finalizar cadastro', which is longer than the reference time of 15s.\n",
      "Step 4: User clicked 6 times, expected 1 clicks.\n"
     ]
    }
   ],
   "source": [
    "# Exibir insights gerados\n",
    "for insight in insights:\n",
    "    print(insight)"
   ]
  },
  {
   "cell_type": "code",
   "execution_count": 40,
   "metadata": {},
   "outputs": [
    {
     "data": {
      "image/png": "[encoded data removed]",
      "text/plain": [
       "<Figure size 640x480 with 1 Axes>"
      ]
     },
     "metadata": {},
     "output_type": "display_data"
    }
   ],
   "source": [
    "\n",
    "# Função para plotar a comparação entre os tempos dos fluxos\n",
    "def plot_comparison(current_json, reference_json):\n",
    "    steps = [step['step'] for step in current_json['flow']]\n",
    "    current_durations = [step['duration_seconds'] for step in current_json['flow']]\n",
    "    reference_durations = [step['duration_seconds'] for step in reference_json['flow']]\n",
    "\n",
    "    # Definir a posição das barras\n",
    "    x = np.arange(len(steps))  # Localização dos rótulos no eixo x\n",
    "    width = 0.35  # Largura das barras\n",
    "\n",
    "    # Criar o gráfico de barras com deslocamento\n",
    "    fig, ax = plt.subplots()\n",
    "    bars1 = ax.bar(x - width/2, current_durations, width, label='Current Flow', alpha=0.6)\n",
    "    bars2 = ax.bar(x + width/2, reference_durations, width, label='Reference Flow', alpha=0.6)\n",
    "\n",
    "    # Adicionar rótulos e título\n",
    "    ax.set_xlabel('Steps')\n",
    "    ax.set_ylabel('Duration (seconds)')\n",
    "    ax.set_title('Comparison of Flow Durations')\n",
    "    ax.set_xticks(x)\n",
    "    ax.set_xticklabels(steps, rotation=45, ha='right')\n",
    "    ax.legend()\n",
    "\n",
    "    # Mostrar o gráfico\n",
    "    plt.tight_layout()\n",
    "    plt.show()\n",
    "\n",
    "# Testando a função com os JSONs\n",
    "plot_comparison(current_json, reference_json)\n"
   ]
  },
  {
   "cell_type": "code",
   "execution_count": 47,
   "metadata": {},
   "outputs": [
    {
     "name": "stderr",
     "output_type": "stream",
     "text": [
      "2024-09-11 16:34:55.149 WARNING streamlit.runtime.scriptrunner_utils.script_run_context: Thread 'MainThread': missing ScriptRunContext! This warning can be ignored when running in bare mode.\n",
      "2024-09-11 16:34:55.224 \n",
      "  \u001b[33m\u001b[1mWarning:\u001b[0m to view this Streamlit app on a browser, run it with the following\n",
      "  command:\n",
      "\n",
      "    streamlit run /opt/anaconda3/lib/python3.11/site-packages/ipykernel_launcher.py [ARGUMENTS]\n",
      "2024-09-11 16:34:55.225 Thread 'MainThread': missing ScriptRunContext! This warning can be ignored when running in bare mode.\n",
      "2024-09-11 16:34:55.225 Thread 'MainThread': missing ScriptRunContext! This warning can be ignored when running in bare mode.\n",
      "2024-09-11 16:34:55.226 Thread 'MainThread': missing ScriptRunContext! This warning can be ignored when running in bare mode.\n",
      "2024-09-11 16:34:55.226 Thread 'MainThread': missing ScriptRunContext! This warning can be ignored when running in bare mode.\n",
      "2024-09-11 16:34:55.226 Thread 'MainThread': missing ScriptRunContext! This warning can be ignored when running in bare mode.\n",
      "2024-09-11 16:34:55.227 Thread 'MainThread': missing ScriptRunContext! This warning can be ignored when running in bare mode.\n",
      "2024-09-11 16:34:55.227 Thread 'MainThread': missing ScriptRunContext! This warning can be ignored when running in bare mode.\n",
      "2024-09-11 16:34:55.227 Thread 'MainThread': missing ScriptRunContext! This warning can be ignored when running in bare mode.\n",
      "2024-09-11 16:34:55.227 Thread 'MainThread': missing ScriptRunContext! This warning can be ignored when running in bare mode.\n",
      "2024-09-11 16:34:55.228 Thread 'MainThread': missing ScriptRunContext! This warning can be ignored when running in bare mode.\n",
      "2024-09-11 16:34:55.228 Thread 'MainThread': missing ScriptRunContext! This warning can be ignored when running in bare mode.\n",
      "2024-09-11 16:34:55.228 Thread 'MainThread': missing ScriptRunContext! This warning can be ignored when running in bare mode.\n",
      "2024-09-11 16:34:55.228 Thread 'MainThread': missing ScriptRunContext! This warning can be ignored when running in bare mode.\n",
      "2024-09-11 16:34:55.229 Thread 'MainThread': missing ScriptRunContext! This warning can be ignored when running in bare mode.\n",
      "2024-09-11 16:34:55.229 Thread 'MainThread': missing ScriptRunContext! This warning can be ignored when running in bare mode.\n",
      "2024-09-11 16:34:55.229 Thread 'MainThread': missing ScriptRunContext! This warning can be ignored when running in bare mode.\n",
      "2024-09-11 16:34:55.229 Thread 'MainThread': missing ScriptRunContext! This warning can be ignored when running in bare mode.\n",
      "2024-09-11 16:34:55.230 Thread 'MainThread': missing ScriptRunContext! This warning can be ignored when running in bare mode.\n",
      "2024-09-11 16:34:55.230 Thread 'MainThread': missing ScriptRunContext! This warning can be ignored when running in bare mode.\n",
      "2024-09-11 16:34:55.230 Thread 'MainThread': missing ScriptRunContext! This warning can be ignored when running in bare mode.\n",
      "2024-09-11 16:34:55.230 Thread 'MainThread': missing ScriptRunContext! This warning can be ignored when running in bare mode.\n"
     ]
    }
   ],
   "source": [
    "def show_insights(insights):\n",
    "    st.title('Insights Comparativos')\n",
    "    for insight in insights:\n",
    "        st.write(insight)\n",
    "\n",
    "if __name__ == '__main__':\n",
    "    insights = compare_json(current_json, reference_json)\n",
    "    show_insights(insights)"
   ]
  }
 ],
 "metadata": {
  "kernelspec": {
   "display_name": "Python 3",
   "language": "python",
   "name": "python3"
  },
  "language_info": {
   "codemirror_mode": {
    "name": "ipython",
    "version": 3
   },
   "file_extension": ".py",
   "mimetype": "text/x-python",
   "name": "python",
   "nbconvert_exporter": "python",
   "pygments_lexer": "ipython3",
   "version": "3.11.7"
  }
 },
 "nbformat": 4,
 "nbformat_minor": 2
}
